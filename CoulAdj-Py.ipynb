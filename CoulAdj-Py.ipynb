{
 "cells": [
  {
   "cell_type": "code",
   "execution_count": 14,
   "id": "regular-replica",
   "metadata": {},
   "outputs": [],
   "source": [
    "import imageio\n",
    "import numpy as np"
   ]
  },
  {
   "cell_type": "markdown",
   "id": "vocational-helen",
   "metadata": {},
   "source": [
    "# Dev stuff"
   ]
  },
  {
   "cell_type": "code",
   "execution_count": 8,
   "id": "manufactured-physics",
   "metadata": {},
   "outputs": [],
   "source": [
    "samples = {\n",
    "    \"small\" : \"tests/small.bmp\",\n",
    "    \"small-alpha\" : \"tests/small-alpha.bmp\",\n",
    "    \"shadow\" : \"tests/proprietary/warhammer_map_1_1_shadow.bmp\",\n",
    "    \"vortex\" : \"tests/proprietary/wh2_main_great_vortex_map_6.bmp\"\n",
    "}"
   ]
  },
  {
   "cell_type": "markdown",
   "id": "bearing-chest",
   "metadata": {},
   "source": [
    "# Input\n",
    "Write your inputs here:"
   ]
  },
  {
   "cell_type": "code",
   "execution_count": 16,
   "id": "another-brand",
   "metadata": {},
   "outputs": [
    {
     "name": "stdout",
     "output_type": "stream",
     "text": [
      "tests/small-alpha.bmp\n"
     ]
    }
   ],
   "source": [
    "source = samples[\"small-alpha\"]\n",
    "relateDiagonals = True # Default is True\n",
    "print(source)"
   ]
  },
  {
   "cell_type": "markdown",
   "id": "embedded-stock",
   "metadata": {},
   "source": [
    "# Process\n",
    "(Output is after this section)"
   ]
  },
  {
   "cell_type": "code",
   "execution_count": 17,
   "id": "classified-activation",
   "metadata": {},
   "outputs": [
    {
     "name": "stdout",
     "output_type": "stream",
     "text": [
      "(8, 8, 4)\n"
     ]
    }
   ],
   "source": [
    "image = imageio.imread(source)\n",
    "print(image.shape)"
   ]
  },
  {
   "cell_type": "code",
   "execution_count": null,
   "id": "generous-amino",
   "metadata": {},
   "outputs": [],
   "source": []
  }
 ],
 "metadata": {
  "kernelspec": {
   "display_name": "Python 3",
   "language": "python",
   "name": "python3"
  },
  "language_info": {
   "codemirror_mode": {
    "name": "ipython",
    "version": 3
   },
   "file_extension": ".py",
   "mimetype": "text/x-python",
   "name": "python",
   "nbconvert_exporter": "python",
   "pygments_lexer": "ipython3",
   "version": "3.9.1"
  }
 },
 "nbformat": 4,
 "nbformat_minor": 5
}
