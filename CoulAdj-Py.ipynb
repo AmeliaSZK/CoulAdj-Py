{
 "cells": [
  {
   "cell_type": "code",
   "execution_count": 1,
   "id": "touched-proof",
   "metadata": {},
   "outputs": [],
   "source": [
    "import imageio\n",
    "import numpy as np"
   ]
  },
  {
   "cell_type": "markdown",
   "id": "hungry-present",
   "metadata": {},
   "source": [
    "# Dev stuff\n",
    "\n",
    "Specify where _in this repo_ the input and output files are."
   ]
  },
  {
   "cell_type": "code",
   "execution_count": 2,
   "id": "jewish-northern",
   "metadata": {},
   "outputs": [],
   "source": [
    "samples = {\n",
    "    \"small\" : \"tests/small.bmp\",\n",
    "    \"small-alpha\" : \"tests/small-alpha.bmp\",\n",
    "    \"shadow\" : \"tests/proprietary/warhammer_map_1_1_shadow.bmp\",\n",
    "    \"vortex\" : \"tests/proprietary/wh2_main_great_vortex_map_6.bmp\"\n",
    "}\n",
    "results = {\n",
    "    \"small\" : \"tests/result small.tsv\",\n",
    "    \"small-alpha\" : \"tests/result small-alpha.tsv\",\n",
    "    \"shadow\" : \"tests/proprietary/result warhammer_map_1_1_shadow.tsv\",\n",
    "    \"vortex\" : \"tests/proprietary/result wh2_main_great_vortex_map_6.tsv\"\n",
    "}"
   ]
  },
  {
   "cell_type": "markdown",
   "id": "processed-positive",
   "metadata": {},
   "source": [
    "# Selection of Sample to Test\n",
    "\n",
    "Choose the test to run here.\n",
    "\n",
    "If you don't have the proprietary images, pick either `\"small\"` or `\"small-alpha\"`.\n",
    "(You almost certainly don't have them)"
   ]
  },
  {
   "cell_type": "code",
   "execution_count": 3,
   "id": "polyphonic-wagon",
   "metadata": {},
   "outputs": [],
   "source": [
    "test = \"small-alpha\""
   ]
  },
  {
   "cell_type": "markdown",
   "id": "sporting-playback",
   "metadata": {},
   "source": [
    "# Input\n",
    "\n",
    "~~Write your inputs here:~~\n",
    "\n",
    "During development, specify your input in the section above."
   ]
  },
  {
   "cell_type": "code",
   "execution_count": 4,
   "id": "unlike-helping",
   "metadata": {},
   "outputs": [
    {
     "name": "stdout",
     "output_type": "stream",
     "text": [
      "tests/small-alpha.bmp\n",
      "tests/result small-alpha.tsv\n"
     ]
    }
   ],
   "source": [
    "source = samples[test]\n",
    "destination = results[test]\n",
    "relateDiagonals = True # Default is True\n",
    "print(source)\n",
    "print(destination)"
   ]
  },
  {
   "cell_type": "markdown",
   "id": "coated-convenience",
   "metadata": {},
   "source": [
    "# Processing"
   ]
  },
  {
   "cell_type": "code",
   "execution_count": 5,
   "id": "brilliant-hometown",
   "metadata": {},
   "outputs": [
    {
     "name": "stdout",
     "output_type": "stream",
     "text": [
      "(8, 8, 4)\n",
      "Dict([('dpi', (96, 96)), ('compression', 3)])\n",
      "8 8 7 7\n"
     ]
    }
   ],
   "source": [
    "image = imageio.imread(source)\n",
    "print(image.shape)\n",
    "print(image.meta)\n",
    "\n",
    "adjacencies = dict()\n",
    "nbRows = image.shape[0]\n",
    "nbColumns = image.shape[1]\n",
    "maxRow = nbRows - 1\n",
    "maxColumn = nbColumns -1\n",
    "print(nbRows, nbColumns, maxRow, maxColumn)"
   ]
  },
  {
   "cell_type": "code",
   "execution_count": 6,
   "id": "loaded-latvia",
   "metadata": {},
   "outputs": [
    {
     "name": "stdout",
     "output_type": "stream",
     "text": [
      "Now starting pixel at row 0 and column 0\n"
     ]
    }
   ],
   "source": [
    "def process_pixel(pixelRow, pixelColumn):\n",
    "    if pixelColumn == 0 and pixelRow % 10 == 0:\n",
    "        print(\"Now starting pixel at row {} and column {}\".format(pixelRow, pixelColumn))\n",
    "    pixelColour = tuple(image[pixelRow, pixelColumn].tolist())\n",
    "    process_neighbour(pixelColour, pixelRow, pixelColumn, 1, -1)\n",
    "    process_neighbour(pixelColour, pixelRow, pixelColumn, 1, 1)\n",
    "    process_neighbour(pixelColour, pixelRow, pixelColumn, -1, -1)\n",
    "    process_neighbour(pixelColour, pixelRow, pixelColumn, -1, 1)\n",
    "    if relateDiagonals:\n",
    "        process_neighbour(pixelColour, pixelRow, pixelColumn, 1, 0)\n",
    "        process_neighbour(pixelColour, pixelRow, pixelColumn, 0, 1)\n",
    "        process_neighbour(pixelColour, pixelRow, pixelColumn, 0, -1)\n",
    "        process_neighbour(pixelColour, pixelRow, pixelColumn, -1, 0)\n",
    "\n",
    "        \n",
    "def process_neighbour(pixelColour, pixelRow, pixelColumn, rowOffset, columnOffset):\n",
    "    neighRow = pixelRow + rowOffset\n",
    "    neighColumn = pixelColumn + columnOffset\n",
    "    if not valid_row_column(neighRow, neighColumn): \n",
    "        return\n",
    "    neighColour = tuple(image[neighRow, neighColumn].tolist())\n",
    "    if same_colours(pixelColour, neighColour): \n",
    "        return\n",
    "    adjacencies.setdefault(pixelColour, set()).add(neighColour)\n",
    "    \n",
    "    \n",
    "def valid_row_column(row, column):\n",
    "    return (0 <= row\n",
    "           and 0 <= column\n",
    "           and row <= maxRow\n",
    "           and column <= maxColumn)\n",
    "\n",
    "def same_colours(a, b):\n",
    "    if len(a) != len(b):\n",
    "        raise TypeError(\"Colours from the same image should have the same number of channels.\")\n",
    "    for i in range(len(a)):\n",
    "        if a[i] != b[i]:\n",
    "            return False\n",
    "    return True\n",
    "\n",
    "\n",
    "for row in range(nbRows):\n",
    "    for column in range(nbColumns):\n",
    "        process_pixel(row, column)"
   ]
  },
  {
   "cell_type": "markdown",
   "id": "shaped-diploma",
   "metadata": {},
   "source": [
    "# Output"
   ]
  },
  {
   "cell_type": "code",
   "execution_count": 7,
   "id": "infrared-mount",
   "metadata": {},
   "outputs": [
    {
     "name": "stdout",
     "output_type": "stream",
     "text": [
      "r\tg\tb\ta\tadj_r\tadj_g\tadj_b\tadj_a\n",
      "0\t0\t255\t255\t0\t255\t0\t255\n",
      "0\t0\t255\t255\t0\t255\t255\t255\n",
      "0\t0\t255\t255\t255\t0\t0\t255\n",
      "0\t0\t255\t255\t255\t0\t255\t255\n",
      "0\t255\t0\t255\t0\t0\t255\t255\n",
      "0\t255\t0\t255\t0\t255\t255\t255\n",
      "0\t255\t0\t255\t255\t0\t0\t255\n",
      "0\t255\t0\t255\t255\t0\t255\t255\n",
      "0\t255\t0\t255\t255\t255\t0\t255\n",
      "0\t255\t255\t255\t0\t0\t255\t255\n",
      "0\t255\t255\t255\t0\t255\t0\t255\n",
      "0\t255\t255\t255\t255\t0\t0\t255\n",
      "0\t255\t255\t255\t255\t255\t0\t255\n",
      "255\t0\t0\t255\t0\t0\t255\t255\n",
      "255\t0\t0\t255\t0\t255\t0\t255\n",
      "255\t0\t0\t255\t0\t255\t255\t255\n",
      "255\t0\t0\t255\t255\t0\t255\t255\n",
      "255\t0\t255\t255\t0\t0\t255\t255\n",
      "255\t0\t255\t255\t0\t255\t0\t255\n",
      "255\t0\t255\t255\t255\t0\t0\t255\n",
      "255\t0\t255\t255\t255\t255\t0\t255\n",
      "255\t255\t0\t255\t0\t255\t0\t255\n",
      "255\t255\t0\t255\t0\t255\t255\t255\n",
      "255\t255\t0\t255\t255\t0\t255\t255\n",
      "\n"
     ]
    }
   ],
   "source": [
    "COLUMN_SEPARATOR = \"\\t\"\n",
    "\n",
    "\"\"\"\n",
    "DO NOT CHANGE THESE HEADERS\n",
    "\n",
    "These headers are part of the API defined in the Readme.\n",
    "They MUST NOT be changed unless the major version number is incremented.\n",
    "\n",
    "The outputted files are meant to be parsed by programs that rely on\n",
    "   hardcoded column names.\n",
    "\n",
    "THE NAMES OF THE COLUMNS, AND THE ORDER IN WHICH THEY ARE WRITTEN,\n",
    "   ARE THE MOST CRITICAL PART OF THE API.\n",
    "\n",
    "DO NOT CHANGE\n",
    "\n",
    "DO NOT CHANGE\n",
    "\"\"\"\n",
    "HEADERS = {\n",
    "    \"RGB\" : COLUMN_SEPARATOR.join([\"r\", \"g\", \"b\", \"adj_r\", \"adj_g\", \"adj_b\"]),\n",
    "    \"RGB_ALPHA\" : COLUMN_SEPARATOR.join([\"r\", \"g\", \"b\", \"a\", \"adj_r\", \"adj_g\", \"adj_b\", \"adj_a\"])\n",
    "}\n",
    "\n",
    "def stringify():\n",
    "    nbChannels = image.shape[2]\n",
    "    if nbChannels == 3:\n",
    "        header = HEADERS[\"RGB\"]\n",
    "    elif nbChannels == 4:\n",
    "        header = HEADERS[\"RGB_ALPHA\"]\n",
    "    else:\n",
    "        raise TypeError(\"Image must have 3 or 4 channels\")\n",
    "    \n",
    "    sortedAdjacencies = [header]\n",
    "    sortedPixels = sorted(adjacencies.keys())\n",
    "    for pixel in sortedPixels:\n",
    "        neighboursAsSet = adjacencies[pixel]\n",
    "        sortedNeighbours = sorted(list(neighboursAsSet))\n",
    "        for neighbour in sortedNeighbours:\n",
    "            sortedAdjacencies.append(COLUMN_SEPARATOR.join(map(str, pixel + neighbour)))\n",
    "            \n",
    "    \"\"\"\n",
    "    TSV specification say that each line must end with EOL\n",
    "    https://www.iana.org/assignments/media-types/text/tab-separated-values\n",
    "    \"\"\"\n",
    "    joinedAdjacencies = \"\\n\".join(sortedAdjacencies)\n",
    "    conformToTsvSpecifications = joinedAdjacencies + \"\\n\"\n",
    "    return conformToTsvSpecifications\n",
    "\n",
    "stringyfied = stringify()\n",
    "print(stringyfied)"
   ]
  },
  {
   "cell_type": "code",
   "execution_count": 8,
   "id": "interstate-blackjack",
   "metadata": {},
   "outputs": [],
   "source": [
    "with open(destination, \"w\") as file:\n",
    "    file.write(stringyfied)"
   ]
  }
 ],
 "metadata": {
  "kernelspec": {
   "display_name": "Python 3",
   "language": "python",
   "name": "python3"
  },
  "language_info": {
   "codemirror_mode": {
    "name": "ipython",
    "version": 3
   },
   "file_extension": ".py",
   "mimetype": "text/x-python",
   "name": "python",
   "nbconvert_exporter": "python",
   "pygments_lexer": "ipython3",
   "version": "3.9.1"
  }
 },
 "nbformat": 4,
 "nbformat_minor": 5
}
