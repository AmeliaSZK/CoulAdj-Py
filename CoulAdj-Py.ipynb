{
 "cells": [
  {
   "cell_type": "code",
   "execution_count": 1,
   "id": "technical-conditioning",
   "metadata": {},
   "outputs": [],
   "source": [
    "import imageio\n",
    "import numpy as np"
   ]
  },
  {
   "cell_type": "markdown",
   "id": "union-windows",
   "metadata": {},
   "source": [
    "# Dev stuff"
   ]
  },
  {
   "cell_type": "code",
   "execution_count": 2,
   "id": "robust-deficit",
   "metadata": {},
   "outputs": [],
   "source": [
    "samples = {\n",
    "    \"small\" : \"tests/small.bmp\",\n",
    "    \"small-alpha\" : \"tests/small-alpha.bmp\",\n",
    "    \"shadow\" : \"tests/proprietary/warhammer_map_1_1_shadow.bmp\",\n",
    "    \"vortex\" : \"tests/proprietary/wh2_main_great_vortex_map_6.bmp\"\n",
    "}"
   ]
  },
  {
   "cell_type": "markdown",
   "id": "durable-reservoir",
   "metadata": {},
   "source": [
    "# Input\n",
    "Write your inputs here:"
   ]
  },
  {
   "cell_type": "code",
   "execution_count": 3,
   "id": "administrative-decrease",
   "metadata": {},
   "outputs": [
    {
     "name": "stdout",
     "output_type": "stream",
     "text": [
      "tests/small-alpha.bmp\n"
     ]
    }
   ],
   "source": [
    "source = samples[\"small-alpha\"]\n",
    "relateDiagonals = True # Default is True\n",
    "print(source)"
   ]
  },
  {
   "cell_type": "markdown",
   "id": "superior-image",
   "metadata": {},
   "source": [
    "# Process\n",
    "(Output is after this section)"
   ]
  },
  {
   "cell_type": "code",
   "execution_count": 4,
   "id": "rolled-master",
   "metadata": {},
   "outputs": [
    {
     "name": "stdout",
     "output_type": "stream",
     "text": [
      "(8, 8, 4)\n",
      "Dict([('dpi', (96, 96)), ('compression', 3)])\n",
      "8 8 7 7\n"
     ]
    }
   ],
   "source": [
    "image = imageio.imread(source)\n",
    "print(image.shape)\n",
    "print(image.meta)\n",
    "\n",
    "adjacencies = dict()\n",
    "nbRows = image.shape[0]\n",
    "nbColumns = image.shape[1]\n",
    "maxRow = nbRows - 1\n",
    "maxColumn = nbColumns -1\n",
    "print(nbRows, nbColumns, maxRow, maxColumn)"
   ]
  },
  {
   "cell_type": "code",
   "execution_count": 5,
   "id": "clinical-annex",
   "metadata": {},
   "outputs": [
    {
     "name": "stdout",
     "output_type": "stream",
     "text": [
      "row\tcol\tr\tg\tb\ta\n",
      "0\t0\t255\t0\t0\t255\n",
      "0\t1\t255\t0\t0\t255\n",
      "0\t2\t255\t0\t0\t255\n",
      "0\t3\t255\t0\t0\t255\n",
      "0\t4\t255\t0\t0\t255\n",
      "0\t5\t255\t0\t255\t255\n",
      "0\t6\t255\t0\t255\t255\n",
      "0\t7\t255\t255\t0\t255\n",
      "1\t0\t255\t0\t0\t255\n",
      "1\t1\t255\t0\t0\t255\n",
      "1\t2\t255\t0\t0\t255\n",
      "1\t3\t255\t0\t0\t255\n",
      "1\t4\t0\t0\t255\t255\n",
      "1\t5\t255\t0\t255\t255\n",
      "1\t6\t255\t0\t255\t255\n",
      "1\t7\t255\t0\t255\t255\n",
      "2\t0\t0\t255\t255\t255\n",
      "2\t1\t0\t255\t255\t255\n",
      "2\t2\t255\t0\t0\t255\n",
      "2\t3\t255\t0\t0\t255\n",
      "2\t4\t0\t0\t255\t255\n",
      "2\t5\t0\t0\t255\t255\n",
      "2\t6\t0\t0\t255\t255\n",
      "2\t7\t255\t0\t255\t255\n",
      "3\t0\t0\t255\t255\t255\n",
      "3\t1\t0\t255\t255\t255\n",
      "3\t2\t255\t0\t0\t255\n",
      "3\t3\t255\t0\t0\t255\n",
      "3\t4\t0\t0\t255\t255\n",
      "3\t5\t0\t0\t255\t255\n",
      "3\t6\t0\t0\t255\t255\n",
      "3\t7\t255\t0\t255\t255\n",
      "4\t0\t0\t255\t255\t255\n",
      "4\t1\t0\t255\t255\t255\n",
      "4\t2\t0\t255\t255\t255\n",
      "4\t3\t0\t255\t255\t255\n",
      "4\t4\t0\t255\t0\t255\n",
      "4\t5\t0\t255\t0\t255\n",
      "4\t6\t0\t255\t0\t255\n",
      "4\t7\t255\t0\t255\t255\n",
      "5\t0\t0\t255\t255\t255\n",
      "5\t1\t0\t255\t255\t255\n",
      "5\t2\t0\t255\t255\t255\n",
      "5\t3\t0\t255\t255\t255\n",
      "5\t4\t0\t255\t0\t255\n",
      "5\t5\t0\t255\t0\t255\n",
      "5\t6\t0\t255\t0\t255\n",
      "5\t7\t255\t0\t255\t255\n",
      "6\t0\t0\t255\t255\t255\n",
      "6\t1\t0\t255\t255\t255\n",
      "6\t2\t0\t255\t255\t255\n",
      "6\t3\t0\t255\t255\t255\n",
      "6\t4\t0\t255\t0\t255\n",
      "6\t5\t0\t255\t0\t255\n",
      "6\t6\t0\t255\t0\t255\n",
      "6\t7\t255\t0\t255\t255\n",
      "7\t0\t0\t255\t255\t255\n",
      "7\t1\t0\t255\t255\t255\n",
      "7\t2\t255\t255\t0\t255\n",
      "7\t3\t255\t255\t0\t255\n",
      "7\t4\t255\t255\t0\t255\n",
      "7\t5\t255\t255\t0\t255\n",
      "7\t6\t0\t255\t0\t255\n",
      "7\t7\t255\t0\t255\t255\n"
     ]
    }
   ],
   "source": [
    "# Print pixel data for debug\n",
    "print(\"\\t\".join([\"row\", \"col\", \"r\", \"g\", \"b\", \"a\"]))\n",
    "for row in range(nbRows):\n",
    "    for column in range(nbColumns):\n",
    "        print(row, column, \"\\t\".join(map(str, image[row, column])), sep=\"\\t\")\n",
    "        \n",
    "R_INDEX = 0\n",
    "G_INDEX = 1\n",
    "B_INDEX = 2\n",
    "A_INDEX = 3"
   ]
  },
  {
   "cell_type": "code",
   "execution_count": 6,
   "id": "bronze-secretary",
   "metadata": {},
   "outputs": [
    {
     "name": "stdout",
     "output_type": "stream",
     "text": [
      "{(255, 0, 0, 255): {(0, 0, 255, 255), (0, 255, 255, 255)}, (255, 255, 0, 255): {(0, 255, 255, 255), (0, 255, 0, 255), (255, 0, 255, 255)}, (0, 0, 255, 255): {(255, 0, 255, 255), (0, 255, 0, 255), (255, 0, 0, 255)}, (255, 0, 255, 255): {(0, 0, 255, 255), (255, 255, 0, 255)}, (0, 255, 255, 255): {(255, 255, 0, 255), (255, 0, 0, 255)}, (0, 255, 0, 255): {(0, 0, 255, 255), (255, 255, 0, 255)}}\n"
     ]
    }
   ],
   "source": [
    "def process_pixel(pixelRow, pixelColumn):\n",
    "    pixelColour = tuple(image[pixelRow, pixelColumn].tolist())\n",
    "    process_neighbour(pixelColour, pixelRow, pixelColumn, 1, -1)\n",
    "    process_neighbour(pixelColour, pixelRow, pixelColumn, 1, 1)\n",
    "    process_neighbour(pixelColour, pixelRow, pixelColumn, -1, -1)\n",
    "    process_neighbour(pixelColour, pixelRow, pixelColumn, -1, 1)\n",
    "    if relateDiagonals:\n",
    "        process_neighbour(pixelColour, pixelRow, pixelColumn, 1, 0)\n",
    "        process_neighbour(pixelColour, pixelRow, pixelColumn, 0, 1)\n",
    "        process_neighbour(pixelColour, pixelRow, pixelColumn, 0, -1)\n",
    "        process_neighbour(pixelColour, pixelRow, pixelColumn, -1, 0)\n",
    "\n",
    "        \n",
    "def process_neighbour(pixelColour, pixelRow, pixelColumn, rowOffset, columnOffset):\n",
    "    neighRow = pixelRow + rowOffset\n",
    "    neighColumn = pixelColumn\n",
    "    if not valid_row_column(neighRow, neighColumn): \n",
    "        return\n",
    "    neighColour = tuple(image[neighRow, neighColumn].tolist())\n",
    "    if same_colours(pixelColour, neighColour): \n",
    "        return\n",
    "    adjacencies.setdefault(pixelColour, set()).add(neighColour)\n",
    "    \n",
    "    \n",
    "def valid_row_column(row, column):\n",
    "    return (0 <= row\n",
    "           and 0 <= column\n",
    "           and row <= maxRow\n",
    "           and column <= maxColumn)\n",
    "\n",
    "def same_colours(a, b):\n",
    "    if len(a) != len(b):\n",
    "        raise TypeError(\"Colours from the same image should have the same number of channels.\")\n",
    "    for i in range(len(a)):\n",
    "        if a[i] != b[i]:\n",
    "            return False\n",
    "    return True\n",
    "\n",
    "\n",
    "for row in range(nbRows):\n",
    "    for column in range(nbColumns):\n",
    "        process_pixel(row, column)\n",
    "\n",
    "print(adjacencies)"
   ]
  },
  {
   "cell_type": "code",
   "execution_count": null,
   "id": "announced-three",
   "metadata": {},
   "outputs": [],
   "source": []
  }
 ],
 "metadata": {
  "kernelspec": {
   "display_name": "Python 3",
   "language": "python",
   "name": "python3"
  },
  "language_info": {
   "codemirror_mode": {
    "name": "ipython",
    "version": 3
   },
   "file_extension": ".py",
   "mimetype": "text/x-python",
   "name": "python",
   "nbconvert_exporter": "python",
   "pygments_lexer": "ipython3",
   "version": "3.9.1"
  }
 },
 "nbformat": 4,
 "nbformat_minor": 5
}
