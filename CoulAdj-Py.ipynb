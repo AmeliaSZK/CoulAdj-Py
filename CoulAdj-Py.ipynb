{
 "cells": [
  {
   "cell_type": "code",
   "execution_count": 1,
   "id": "developmental-parade",
   "metadata": {},
   "outputs": [],
   "source": [
    "import imageio\n",
    "import numpy as np"
   ]
  },
  {
   "cell_type": "markdown",
   "id": "double-architect",
   "metadata": {},
   "source": [
    "# Dev stuff"
   ]
  },
  {
   "cell_type": "code",
   "execution_count": 2,
   "id": "gorgeous-measure",
   "metadata": {},
   "outputs": [],
   "source": [
    "samples = {\n",
    "    \"small\" : \"tests/small.bmp\",\n",
    "    \"small-alpha\" : \"tests/small-alpha.bmp\",\n",
    "    \"shadow\" : \"tests/proprietary/warhammer_map_1_1_shadow.bmp\",\n",
    "    \"vortex\" : \"tests/proprietary/wh2_main_great_vortex_map_6.bmp\"\n",
    "}"
   ]
  },
  {
   "cell_type": "markdown",
   "id": "temporal-aaron",
   "metadata": {},
   "source": [
    "# Input\n",
    "Write your inputs here:"
   ]
  },
  {
   "cell_type": "code",
   "execution_count": 3,
   "id": "governmental-agriculture",
   "metadata": {},
   "outputs": [
    {
     "name": "stdout",
     "output_type": "stream",
     "text": [
      "tests/small-alpha.bmp\n"
     ]
    }
   ],
   "source": [
    "source = samples[\"small-alpha\"]\n",
    "relateDiagonals = True # Default is True\n",
    "print(source)"
   ]
  },
  {
   "cell_type": "markdown",
   "id": "monthly-warren",
   "metadata": {},
   "source": [
    "# Process\n",
    "(Output is after this section)"
   ]
  },
  {
   "cell_type": "code",
   "execution_count": 4,
   "id": "discrete-promise",
   "metadata": {},
   "outputs": [
    {
     "name": "stdout",
     "output_type": "stream",
     "text": [
      "(8, 8, 4)\n",
      "Dict([('dpi', (96, 96)), ('compression', 3)])\n",
      "8 8 7 7\n"
     ]
    }
   ],
   "source": [
    "image = imageio.imread(source)\n",
    "print(image.shape)\n",
    "print(image.meta)\n",
    "\n",
    "adjacencies = dict()\n",
    "nbRows = image.shape[0]\n",
    "nbColumns = image.shape[1]\n",
    "maxRow = nbRows - 1\n",
    "maxColumn = nbColumns -1\n",
    "print(nbRows, nbColumns, maxRow, maxColumn)"
   ]
  },
  {
   "cell_type": "code",
   "execution_count": 5,
   "id": "directed-welsh",
   "metadata": {},
   "outputs": [
    {
     "name": "stdout",
     "output_type": "stream",
     "text": [
      "row\tcol\tr\tg\tb\ta\n",
      "0\t0\t255\t0\t0\t255\n",
      "0\t1\t255\t0\t0\t255\n",
      "0\t2\t255\t0\t0\t255\n",
      "0\t3\t255\t0\t0\t255\n",
      "0\t4\t255\t0\t0\t255\n",
      "0\t5\t255\t0\t255\t255\n",
      "0\t6\t255\t0\t255\t255\n",
      "0\t7\t255\t255\t0\t255\n",
      "1\t0\t255\t0\t0\t255\n",
      "1\t1\t255\t0\t0\t255\n",
      "1\t2\t255\t0\t0\t255\n",
      "1\t3\t255\t0\t0\t255\n",
      "1\t4\t0\t0\t255\t255\n",
      "1\t5\t255\t0\t255\t255\n",
      "1\t6\t255\t0\t255\t255\n",
      "1\t7\t255\t0\t255\t255\n",
      "2\t0\t0\t255\t255\t255\n",
      "2\t1\t0\t255\t255\t255\n",
      "2\t2\t255\t0\t0\t255\n",
      "2\t3\t255\t0\t0\t255\n",
      "2\t4\t0\t0\t255\t255\n",
      "2\t5\t0\t0\t255\t255\n",
      "2\t6\t0\t0\t255\t255\n",
      "2\t7\t255\t0\t255\t255\n",
      "3\t0\t0\t255\t255\t255\n",
      "3\t1\t0\t255\t255\t255\n",
      "3\t2\t255\t0\t0\t255\n",
      "3\t3\t255\t0\t0\t255\n",
      "3\t4\t0\t0\t255\t255\n",
      "3\t5\t0\t0\t255\t255\n",
      "3\t6\t0\t0\t255\t255\n",
      "3\t7\t255\t0\t255\t255\n",
      "4\t0\t0\t255\t255\t255\n",
      "4\t1\t0\t255\t255\t255\n",
      "4\t2\t0\t255\t255\t255\n",
      "4\t3\t0\t255\t255\t255\n",
      "4\t4\t0\t255\t0\t255\n",
      "4\t5\t0\t255\t0\t255\n",
      "4\t6\t0\t255\t0\t255\n",
      "4\t7\t255\t0\t255\t255\n",
      "5\t0\t0\t255\t255\t255\n",
      "5\t1\t0\t255\t255\t255\n",
      "5\t2\t0\t255\t255\t255\n",
      "5\t3\t0\t255\t255\t255\n",
      "5\t4\t0\t255\t0\t255\n",
      "5\t5\t0\t255\t0\t255\n",
      "5\t6\t0\t255\t0\t255\n",
      "5\t7\t255\t0\t255\t255\n",
      "6\t0\t0\t255\t255\t255\n",
      "6\t1\t0\t255\t255\t255\n",
      "6\t2\t0\t255\t255\t255\n",
      "6\t3\t0\t255\t255\t255\n",
      "6\t4\t0\t255\t0\t255\n",
      "6\t5\t0\t255\t0\t255\n",
      "6\t6\t0\t255\t0\t255\n",
      "6\t7\t255\t0\t255\t255\n",
      "7\t0\t0\t255\t255\t255\n",
      "7\t1\t0\t255\t255\t255\n",
      "7\t2\t255\t255\t0\t255\n",
      "7\t3\t255\t255\t0\t255\n",
      "7\t4\t255\t255\t0\t255\n",
      "7\t5\t255\t255\t0\t255\n",
      "7\t6\t0\t255\t0\t255\n",
      "7\t7\t255\t0\t255\t255\n"
     ]
    }
   ],
   "source": [
    "# Print pixel data for debug\n",
    "print(\"\\t\".join([\"row\", \"col\", \"r\", \"g\", \"b\", \"a\"]))\n",
    "for row in range(nbRows):\n",
    "    for column in range(nbColumns):\n",
    "        print(row, column, \"\\t\".join(map(str, image[row, column])), sep=\"\\t\")\n",
    "        \n",
    "R_INDEX = 0\n",
    "G_INDEX = 1\n",
    "B_INDEX = 2\n",
    "A_INDEX = 3"
   ]
  },
  {
   "cell_type": "code",
   "execution_count": 6,
   "id": "assured-teens",
   "metadata": {},
   "outputs": [
    {
     "name": "stdout",
     "output_type": "stream",
     "text": [
      "{(255, 0, 0, 255): {(0, 0, 255, 255), (0, 255, 255, 255)}, (255, 255, 0, 255): {(0, 255, 255, 255), (0, 255, 0, 255), (255, 0, 255, 255)}, (0, 0, 255, 255): {(255, 0, 255, 255), (0, 255, 0, 255), (255, 0, 0, 255)}, (255, 0, 255, 255): {(0, 0, 255, 255), (255, 255, 0, 255)}, (0, 255, 255, 255): {(255, 255, 0, 255), (255, 0, 0, 255)}, (0, 255, 0, 255): {(0, 0, 255, 255), (255, 255, 0, 255)}}\n"
     ]
    }
   ],
   "source": [
    "def process_pixel(pixelRow, pixelColumn):\n",
    "    pixelColour = tuple(image[pixelRow, pixelColumn].tolist())\n",
    "    process_neighbour(pixelColour, pixelRow, pixelColumn, 1, -1)\n",
    "    process_neighbour(pixelColour, pixelRow, pixelColumn, 1, 1)\n",
    "    process_neighbour(pixelColour, pixelRow, pixelColumn, -1, -1)\n",
    "    process_neighbour(pixelColour, pixelRow, pixelColumn, -1, 1)\n",
    "    if relateDiagonals:\n",
    "        process_neighbour(pixelColour, pixelRow, pixelColumn, 1, 0)\n",
    "        process_neighbour(pixelColour, pixelRow, pixelColumn, 0, 1)\n",
    "        process_neighbour(pixelColour, pixelRow, pixelColumn, 0, -1)\n",
    "        process_neighbour(pixelColour, pixelRow, pixelColumn, -1, 0)\n",
    "\n",
    "        \n",
    "def process_neighbour(pixelColour, pixelRow, pixelColumn, rowOffset, columnOffset):\n",
    "    neighRow = pixelRow + rowOffset\n",
    "    neighColumn = pixelColumn\n",
    "    if not valid_row_column(neighRow, neighColumn): \n",
    "        return\n",
    "    neighColour = tuple(image[neighRow, neighColumn].tolist())\n",
    "    if same_colours(pixelColour, neighColour): \n",
    "        return\n",
    "    adjacencies.setdefault(pixelColour, set()).add(neighColour)\n",
    "    \n",
    "    \n",
    "def valid_row_column(row, column):\n",
    "    return (0 <= row\n",
    "           and 0 <= column\n",
    "           and row <= maxRow\n",
    "           and column <= maxColumn)\n",
    "\n",
    "def same_colours(a, b):\n",
    "    if len(a) != len(b):\n",
    "        raise TypeError(\"Colours from the same image should have the same number of channels.\")\n",
    "    for i in range(len(a)):\n",
    "        if a[i] != b[i]:\n",
    "            return False\n",
    "    return True\n",
    "\n",
    "\n",
    "for row in range(nbRows):\n",
    "    for column in range(nbColumns):\n",
    "        process_pixel(row, column)\n",
    "\n",
    "print(adjacencies)"
   ]
  },
  {
   "cell_type": "code",
   "execution_count": 11,
   "id": "inclusive-incidence",
   "metadata": {},
   "outputs": [
    {
     "name": "stdout",
     "output_type": "stream",
     "text": [
      "r\tg\tb\ta\tadj_r\tadj_g\tadj_b\tadj_a\n",
      "0\t0\t255\t255\t0\t255\t0\t255\n",
      "0\t0\t255\t255\t255\t0\t0\t255\n",
      "0\t0\t255\t255\t255\t0\t255\t255\n",
      "0\t255\t0\t255\t0\t0\t255\t255\n",
      "0\t255\t0\t255\t255\t255\t0\t255\n",
      "0\t255\t255\t255\t255\t0\t0\t255\n",
      "0\t255\t255\t255\t255\t255\t0\t255\n",
      "255\t0\t0\t255\t0\t0\t255\t255\n",
      "255\t0\t0\t255\t0\t255\t255\t255\n",
      "255\t0\t255\t255\t0\t0\t255\t255\n",
      "255\t0\t255\t255\t255\t255\t0\t255\n",
      "255\t255\t0\t255\t0\t255\t0\t255\n",
      "255\t255\t0\t255\t0\t255\t255\t255\n",
      "255\t255\t0\t255\t255\t0\t255\t255\n",
      "\n"
     ]
    }
   ],
   "source": [
    "COLUMN_SEPARATOR = \"\\t\"\n",
    "\n",
    "\"\"\"\n",
    "DO NOT CHANGE THESE HEADERS\n",
    "\n",
    "These headers are part of the API defined in the Readme.\n",
    "They MUST NOT be changed unless the major version number is incremented.\n",
    "\n",
    "The outputted files are meant to be parsed by programs that rely on\n",
    "   hardcoded column names.\n",
    "\n",
    "THE NAMES OF THE COLUMNS, AND THE ORDER IN WHICH THEY ARE WRITTEN,\n",
    "   ARE THE MOST CRITICAL PART OF THE API.\n",
    "\n",
    "DO NOT CHANGE\n",
    "\n",
    "DO NOT CHANGE\n",
    "\"\"\"\n",
    "HEADERS = {\n",
    "    \"RGB\" : COLUMN_SEPARATOR.join([\"r\", \"g\", \"b\", \"adj_r\", \"adj_g\", \"adj_b\"]),\n",
    "    \"RGB_ALPHA\" : COLUMN_SEPARATOR.join([\"r\", \"g\", \"b\", \"a\", \"adj_r\", \"adj_g\", \"adj_b\", \"adj_a\"])\n",
    "}\n",
    "\n",
    "def stringify():\n",
    "    nbChannels = image.shape[2]\n",
    "    if nbChannels == 3:\n",
    "        header = HEADERS[\"RGB\"]\n",
    "    elif nbChannels == 4:\n",
    "        header = HEADERS[\"RGB_ALPHA\"]\n",
    "    else:\n",
    "        raise TypeError(\"Image must have 3 or 4 channels\")\n",
    "    \n",
    "    sortedAdjacencies = [header]\n",
    "    sortedPixels = sorted(adjacencies.keys())\n",
    "    for pixel in sortedPixels:\n",
    "        neighboursAsSet = adjacencies[pixel]\n",
    "        sortedNeighbours = sorted(list(neighboursAsSet))\n",
    "        for neighbour in sortedNeighbours:\n",
    "            sortedAdjacencies.append(COLUMN_SEPARATOR.join(map(str, pixel + neighbour)))\n",
    "            \n",
    "    \"\"\"\n",
    "    TSV specification say that each line must end with EOL\n",
    "    https://www.iana.org/assignments/media-types/text/tab-separated-values\n",
    "    \"\"\"\n",
    "    joinedAdjacencies = \"\\n\".join(sortedAdjacencies)\n",
    "    conformToTsvSpecifications = joinedAdjacencies + \"\\n\"\n",
    "    return conformToTsvSpecifications\n",
    "\n",
    "stringyfied = stringify()\n",
    "print(stringyfied)"
   ]
  },
  {
   "cell_type": "code",
   "execution_count": null,
   "id": "resident-being",
   "metadata": {},
   "outputs": [],
   "source": []
  }
 ],
 "metadata": {
  "kernelspec": {
   "display_name": "Python 3",
   "language": "python",
   "name": "python3"
  },
  "language_info": {
   "codemirror_mode": {
    "name": "ipython",
    "version": 3
   },
   "file_extension": ".py",
   "mimetype": "text/x-python",
   "name": "python",
   "nbconvert_exporter": "python",
   "pygments_lexer": "ipython3",
   "version": "3.9.1"
  }
 },
 "nbformat": 4,
 "nbformat_minor": 5
}
